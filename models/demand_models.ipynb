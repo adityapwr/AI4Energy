{
 "cells": [
  {
   "cell_type": "code",
   "execution_count": 1,
   "metadata": {},
   "outputs": [
    {
     "name": "stderr",
     "output_type": "stream",
     "text": [
      "/Library/Frameworks/Python.framework/Versions/3.11/lib/python3.11/site-packages/tqdm/auto.py:22: TqdmWarning: IProgress not found. Please update jupyter and ipywidgets. See https://ipywidgets.readthedocs.io/en/stable/user_install.html\n",
      "  from .autonotebook import tqdm as notebook_tqdm\n"
     ]
    },
    {
     "data": {
      "text/plain": [
       "True"
      ]
     },
     "execution_count": 1,
     "metadata": {},
     "output_type": "execute_result"
    }
   ],
   "source": [
    "import prophet as pt\n",
    "from prophet.plot import plot_plotly, plot_components_plotly\n",
    "from prophet.diagnostics import cross_validation, performance_metrics\n",
    "from prophet.plot import plot_cross_validation_metric\n",
    "\n",
    "# Import postgres python adapter\n",
    "import psycopg2\n",
    "import logging\n",
    "import os\n",
    "import datetime\n",
    "import pandas as pd\n",
    "from dotenv import load_dotenv\n",
    "\n",
    "load_dotenv()\n"
   ]
  },
  {
   "cell_type": "code",
   "execution_count": 2,
   "metadata": {},
   "outputs": [],
   "source": [
    "host = os.getenv(\"HOST\")\n",
    "port = os.getenv(\"PORT\")\n",
    "database = os.getenv(\"DATABASE\")\n",
    "user = os.getenv(\"DB_USER\")\n",
    "password = os.getenv(\"PASSWORD\")"
   ]
  },
  {
   "cell_type": "code",
   "execution_count": 3,
   "metadata": {},
   "outputs": [],
   "source": [
    "# Read data from postgres\n",
    "def read_data():\n",
    "    conn = psycopg2.connect(\n",
    "        host=host,\n",
    "        port=port,\n",
    "        database=database,\n",
    "        user=user,\n",
    "        password=password\n",
    "    )\n",
    "    cur = conn.cursor()\n",
    "    cur.execute(\"SELECT * FROM aggregated_demand\")\n",
    "    data = cur.fetchall()\n",
    "    cur.close()\n",
    "    conn.close()\n",
    "    return data"
   ]
  },
  {
   "cell_type": "code",
   "execution_count": 4,
   "metadata": {},
   "outputs": [],
   "source": [
    "# Convert data to dataframe\n",
    "def convert_to_dataframe(data):\n",
    "    df = pd.DataFrame(data, columns=['ds', 'state', 'frequency', 'demand'])\n",
    "    df['ds'] = pd.to_datetime(df['ds'])\n",
    "    return df\n"
   ]
  },
  {
   "cell_type": "code",
   "execution_count": 5,
   "metadata": {},
   "outputs": [],
   "source": [
    "data = read_data()"
   ]
  },
  {
   "cell_type": "code",
   "execution_count": 6,
   "metadata": {},
   "outputs": [],
   "source": [
    "data = convert_to_dataframe(data)"
   ]
  },
  {
   "cell_type": "code",
   "execution_count": 7,
   "metadata": {},
   "outputs": [
    {
     "name": "stderr",
     "output_type": "stream",
     "text": [
      "23:40:40 - cmdstanpy - INFO - Chain [1] start processing\n",
      "23:40:55 - cmdstanpy - INFO - Chain [1] done processing\n",
      "23:40:56 - cmdstanpy - INFO - Chain [1] start processing\n",
      "23:41:07 - cmdstanpy - INFO - Chain [1] done processing\n",
      "23:41:08 - cmdstanpy - INFO - Chain [1] start processing\n",
      "23:41:22 - cmdstanpy - INFO - Chain [1] done processing\n",
      "23:41:23 - cmdstanpy - INFO - Chain [1] start processing\n",
      "23:41:26 - cmdstanpy - INFO - Chain [1] done processing\n",
      "23:41:27 - cmdstanpy - INFO - Chain [1] start processing\n",
      "23:41:36 - cmdstanpy - INFO - Chain [1] done processing\n",
      "23:41:37 - cmdstanpy - INFO - Chain [1] start processing\n",
      "23:42:00 - cmdstanpy - INFO - Chain [1] done processing\n",
      "23:42:01 - cmdstanpy - INFO - Chain [1] start processing\n",
      "23:42:33 - cmdstanpy - INFO - Chain [1] done processing\n"
     ]
    }
   ],
   "source": [
    "# Create a model for each state\n",
    "states = data['state'].unique()\n",
    "models = {}\n",
    "\n",
    "for state in states:\n",
    "    df = data[data['state'] == state]\n",
    "    model = pt.Prophet()\n",
    "    df = df[['ds', 'demand']]\n",
    "    df.columns = ['ds', 'y']\n",
    "    model.fit(df)\n",
    "    models[state] = model\n"
   ]
  },
  {
   "cell_type": "code",
   "execution_count": 8,
   "metadata": {},
   "outputs": [],
   "source": [
    "# create forecast for each state\n",
    "forecasts = {}\n",
    "for state in states:\n",
    "    model = models[state]\n",
    "    future = model.make_future_dataframe(periods=48*3)\n",
    "    forecast = model.predict(future)\n",
    "    forecasts[state] = forecast"
   ]
  },
  {
   "cell_type": "code",
   "execution_count": 9,
   "metadata": {},
   "outputs": [
    {
     "ename": "ValueError",
     "evalue": "Mime type rendering requires nbformat>=4.2.0 but it is not installed",
     "output_type": "error",
     "traceback": [
      "\u001b[0;31m---------------------------------------------------------------------------\u001b[0m",
      "\u001b[0;31mValueError\u001b[0m                                Traceback (most recent call last)",
      "\u001b[1;32m/Users/aditya/Documents/Projects/PowerOptimization/models/demand_models.ipynb Cell 9\u001b[0m in \u001b[0;36m1\n\u001b[1;32m      <a href='vscode-notebook-cell:/Users/aditya/Documents/Projects/PowerOptimization/models/demand_models.ipynb#X11sZmlsZQ%3D%3D?line=3'>4</a>\u001b[0m fig \u001b[39m=\u001b[39m plot_plotly(model, forecast)\n\u001b[1;32m      <a href='vscode-notebook-cell:/Users/aditya/Documents/Projects/PowerOptimization/models/demand_models.ipynb#X11sZmlsZQ%3D%3D?line=4'>5</a>\u001b[0m fig\u001b[39m.\u001b[39mupdate_layout(\n\u001b[1;32m      <a href='vscode-notebook-cell:/Users/aditya/Documents/Projects/PowerOptimization/models/demand_models.ipynb#X11sZmlsZQ%3D%3D?line=5'>6</a>\u001b[0m     title\u001b[39m=\u001b[39m\u001b[39mf\u001b[39m\u001b[39m\"\u001b[39m\u001b[39mForecast for \u001b[39m\u001b[39m{\u001b[39;00mstate\u001b[39m}\u001b[39;00m\u001b[39m\"\u001b[39m,\n\u001b[1;32m      <a href='vscode-notebook-cell:/Users/aditya/Documents/Projects/PowerOptimization/models/demand_models.ipynb#X11sZmlsZQ%3D%3D?line=6'>7</a>\u001b[0m     xaxis_title\u001b[39m=\u001b[39m\u001b[39m\"\u001b[39m\u001b[39mDate\u001b[39m\u001b[39m\"\u001b[39m,\n\u001b[0;32m   (...)\u001b[0m\n\u001b[1;32m     <a href='vscode-notebook-cell:/Users/aditya/Documents/Projects/PowerOptimization/models/demand_models.ipynb#X11sZmlsZQ%3D%3D?line=12'>13</a>\u001b[0m     )\n\u001b[1;32m     <a href='vscode-notebook-cell:/Users/aditya/Documents/Projects/PowerOptimization/models/demand_models.ipynb#X11sZmlsZQ%3D%3D?line=13'>14</a>\u001b[0m )\n\u001b[0;32m---> <a href='vscode-notebook-cell:/Users/aditya/Documents/Projects/PowerOptimization/models/demand_models.ipynb#X11sZmlsZQ%3D%3D?line=14'>15</a>\u001b[0m fig\u001b[39m.\u001b[39;49mshow()\n",
      "File \u001b[0;32m/Library/Frameworks/Python.framework/Versions/3.11/lib/python3.11/site-packages/plotly/basedatatypes.py:3390\u001b[0m, in \u001b[0;36mBaseFigure.show\u001b[0;34m(self, *args, **kwargs)\u001b[0m\n\u001b[1;32m   3357\u001b[0m \u001b[39m\u001b[39m\u001b[39m\"\"\"\u001b[39;00m\n\u001b[1;32m   3358\u001b[0m \u001b[39mShow a figure using either the default renderer(s) or the renderer(s)\u001b[39;00m\n\u001b[1;32m   3359\u001b[0m \u001b[39mspecified by the renderer argument\u001b[39;00m\n\u001b[0;32m   (...)\u001b[0m\n\u001b[1;32m   3386\u001b[0m \u001b[39mNone\u001b[39;00m\n\u001b[1;32m   3387\u001b[0m \u001b[39m\"\"\"\u001b[39;00m\n\u001b[1;32m   3388\u001b[0m \u001b[39mimport\u001b[39;00m \u001b[39mplotly\u001b[39;00m\u001b[39m.\u001b[39;00m\u001b[39mio\u001b[39;00m \u001b[39mas\u001b[39;00m \u001b[39mpio\u001b[39;00m\n\u001b[0;32m-> 3390\u001b[0m \u001b[39mreturn\u001b[39;00m pio\u001b[39m.\u001b[39;49mshow(\u001b[39mself\u001b[39;49m, \u001b[39m*\u001b[39;49margs, \u001b[39m*\u001b[39;49m\u001b[39m*\u001b[39;49mkwargs)\n",
      "File \u001b[0;32m/Library/Frameworks/Python.framework/Versions/3.11/lib/python3.11/site-packages/plotly/io/_renderers.py:396\u001b[0m, in \u001b[0;36mshow\u001b[0;34m(fig, renderer, validate, **kwargs)\u001b[0m\n\u001b[1;32m    391\u001b[0m         \u001b[39mraise\u001b[39;00m \u001b[39mValueError\u001b[39;00m(\n\u001b[1;32m    392\u001b[0m             \u001b[39m\"\u001b[39m\u001b[39mMime type rendering requires ipython but it is not installed\u001b[39m\u001b[39m\"\u001b[39m\n\u001b[1;32m    393\u001b[0m         )\n\u001b[1;32m    395\u001b[0m     \u001b[39mif\u001b[39;00m \u001b[39mnot\u001b[39;00m nbformat \u001b[39mor\u001b[39;00m Version(nbformat\u001b[39m.\u001b[39m__version__) \u001b[39m<\u001b[39m Version(\u001b[39m\"\u001b[39m\u001b[39m4.2.0\u001b[39m\u001b[39m\"\u001b[39m):\n\u001b[0;32m--> 396\u001b[0m         \u001b[39mraise\u001b[39;00m \u001b[39mValueError\u001b[39;00m(\n\u001b[1;32m    397\u001b[0m             \u001b[39m\"\u001b[39m\u001b[39mMime type rendering requires nbformat>=4.2.0 but it is not installed\u001b[39m\u001b[39m\"\u001b[39m\n\u001b[1;32m    398\u001b[0m         )\n\u001b[1;32m    400\u001b[0m     ipython_display\u001b[39m.\u001b[39mdisplay(bundle, raw\u001b[39m=\u001b[39m\u001b[39mTrue\u001b[39;00m)\n\u001b[1;32m    402\u001b[0m \u001b[39m# external renderers\u001b[39;00m\n",
      "\u001b[0;31mValueError\u001b[0m: Mime type rendering requires nbformat>=4.2.0 but it is not installed"
     ]
    }
   ],
   "source": [
    "# Plot forecast for each state\n",
    "for state in states:\n",
    "    forecast = forecasts[state]\n",
    "    fig = plot_plotly(model, forecast)\n",
    "    fig.update_layout(\n",
    "        title=f\"Forecast for {state}\",\n",
    "        xaxis_title=\"Date\",\n",
    "        yaxis_title=\"Demand (MW)\",\n",
    "        font=dict(\n",
    "            family=\"Courier New, monospace\",\n",
    "            size=18,\n",
    "            color=\"#7f7f7f\"\n",
    "        )\n",
    "    )\n",
    "    fig.show()"
   ]
  },
  {
   "cell_type": "code",
   "execution_count": null,
   "metadata": {},
   "outputs": [
    {
     "name": "stdout",
     "output_type": "stream",
     "text": [
      "\n",
      "Usage:   \n",
      "  /usr/local/bin/python3 -m pip install [options] <requirement specifier> [package-index-options] ...\n",
      "  /usr/local/bin/python3 -m pip install [options] -r <requirements file> [package-index-options] ...\n",
      "  /usr/local/bin/python3 -m pip install [options] [-e] <vcs project url> ...\n",
      "  /usr/local/bin/python3 -m pip install [options] [-e] <local project path> ...\n",
      "  /usr/local/bin/python3 -m pip install [options] <archive url/path> ...\n",
      "\n",
      "no such option: -u\n",
      "Note: you may need to restart the kernel to use updated packages.\n"
     ]
    }
   ],
   "source": [
    "!pip install - -upgrade nbformat\n"
   ]
  },
  {
   "cell_type": "code",
   "execution_count": 10,
   "metadata": {},
   "outputs": [
    {
     "name": "stdout",
     "output_type": "stream",
     "text": [
      "Forecast plot for Chattishgarh saved as forecast_Chattishgarh.html\n",
      "Forecast plot for Gujrat saved as forecast_Gujrat.html\n",
      "Forecast plot for Madhya Pradesh saved as forecast_Madhya Pradesh.html\n",
      "Forecast plot for Maharashtra saved as forecast_Maharashtra.html\n",
      "Forecast plot for Goa saved as forecast_Goa.html\n",
      "Forecast plot for DNH saved as forecast_DNH.html\n",
      "Forecast plot for DD saved as forecast_DD.html\n"
     ]
    }
   ],
   "source": [
    "import plotly.io as pio\n",
    "\n",
    "# Plot forecast for each state\n",
    "for state in states:\n",
    "    forecast = forecasts[state]\n",
    "    fig = plot_plotly(model, forecast)\n",
    "    fig.update_layout(\n",
    "        title=f\"Forecast for {state}\",\n",
    "        xaxis_title=\"Date\",\n",
    "        yaxis_title=\"Demand (MW)\",\n",
    "        font=dict(\n",
    "            family=\"Courier New, monospace\",\n",
    "            size=18,\n",
    "            color=\"#7f7f7f\"\n",
    "        )\n",
    "    )\n",
    "    # Save the plot as an HTML file\n",
    "    file_name = f\"forecast_{state}.html\"\n",
    "    pio.write_html(fig, file_name)\n",
    "    print(f\"Forecast plot for {state} saved as {file_name}\")\n"
   ]
  },
  {
   "cell_type": "code",
   "execution_count": null,
   "metadata": {},
   "outputs": [],
   "source": []
  }
 ],
 "metadata": {
  "kernelspec": {
   "display_name": "Python 3",
   "language": "python",
   "name": "python3"
  },
  "language_info": {
   "codemirror_mode": {
    "name": "ipython",
    "version": 3
   },
   "file_extension": ".py",
   "mimetype": "text/x-python",
   "name": "python",
   "nbconvert_exporter": "python",
   "pygments_lexer": "ipython3",
   "version": "3.11.0"
  },
  "orig_nbformat": 4
 },
 "nbformat": 4,
 "nbformat_minor": 2
}
